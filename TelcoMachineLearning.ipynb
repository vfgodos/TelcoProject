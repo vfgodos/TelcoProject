{
 "cells": [
  {
   "cell_type": "markdown",
   "id": "55421d72",
   "metadata": {},
   "source": [
    "# Telco Customer Churn Project"
   ]
  },
  {
   "cell_type": "markdown",
   "id": "b57108a6",
   "metadata": {},
   "source": [
    "Libraries needed"
   ]
  },
  {
   "cell_type": "code",
   "execution_count": 1,
   "id": "10ea6d19",
   "metadata": {},
   "outputs": [],
   "source": [
    "import pandas as pd\n",
    "import seaborn as sns\n",
    "import numpy as np\n",
    "from sklearn.model_selection import train_test_split\n",
    "from sklearn.preprocessing import MinMaxScaler\n",
    "from sklearn.linear_model import LogisticRegression\n",
    "from sklearn.neighbors import KNeighborsClassifier\n",
    "from sklearn.metrics import precision_score, recall_score, f1_score, confusion_matrix\n",
    "from sklearn.utils import resample\n"
   ]
  },
  {
   "cell_type": "markdown",
   "id": "faba090a",
   "metadata": {},
   "source": [
    "Dataset cleaned "
   ]
  },
  {
   "cell_type": "code",
   "execution_count": 2,
   "id": "ec3b3491",
   "metadata": {},
   "outputs": [],
   "source": [
    "telco_df = pd.read_csv('TelcoClean.csv')"
   ]
  },
  {
   "cell_type": "markdown",
   "id": "2bb74f7b",
   "metadata": {},
   "source": [
    "## Machine learning: trying to predict churn"
   ]
  },
  {
   "cell_type": "markdown",
   "id": "ba9128e1",
   "metadata": {},
   "source": [
    "The objetive is to detect the highest quatity of possitive churns because these are the customers who the company wants to retain "
   ]
  },
  {
   "cell_type": "markdown",
   "id": "a3c7c2f1",
   "metadata": {},
   "source": [
    "### Preparing data"
   ]
  },
  {
   "cell_type": "markdown",
   "id": "61341753",
   "metadata": {},
   "source": [
    "First of all, I'll drop the CustomerID column because it's an identifier"
   ]
  },
  {
   "cell_type": "code",
   "execution_count": 3,
   "id": "18fa71e0",
   "metadata": {},
   "outputs": [],
   "source": [
    "telco_df = telco_df.drop(['customerID'], axis=1)"
   ]
  },
  {
   "cell_type": "markdown",
   "id": "b4a5a0ee",
   "metadata": {},
   "source": [
    "I'll drop the TotalCharges column because it's mainly the same as MonthlyCharges x Tenure so the correlation is very high "
   ]
  },
  {
   "cell_type": "code",
   "execution_count": 4,
   "id": "a652722e",
   "metadata": {},
   "outputs": [],
   "source": [
    "telco_df = telco_df.drop(['TotalCharges'], axis=1)"
   ]
  },
  {
   "cell_type": "markdown",
   "id": "ab9efd7a",
   "metadata": {},
   "source": [
    "### Encoding categorical data"
   ]
  },
  {
   "cell_type": "markdown",
   "id": "14d9e015",
   "metadata": {},
   "source": [
    "I'll use ordinal encoding"
   ]
  },
  {
   "cell_type": "code",
   "execution_count": 5,
   "id": "e5774081",
   "metadata": {},
   "outputs": [],
   "source": [
    "telco_df['gender'] = telco_df['gender'].map({'Male': 0, 'Female': 1}).astype(int)\n",
    "telco_df['Partner'] = telco_df['Partner'].map({'No': 0, 'Yes': 1}).astype(int)\n",
    "telco_df['Dependents'] = telco_df['Dependents'].map({'No': 0, 'Yes': 1}).astype(int)\n",
    "telco_df['PhoneService'] = telco_df['PhoneService'].map({'No': 0, 'Yes': 1}).astype(int)\n",
    "telco_df['PaperlessBilling'] = telco_df['PaperlessBilling'].map({'No': 0, 'Yes': 1}).astype(int)\n",
    "\n",
    "#I'll encode No Service = No\n",
    "telco_df['MultipleLines'] = telco_df['MultipleLines'].map({'No': 0, 'Yes': 1, 'No phone service': 0}).astype(int)\n",
    "\n",
    "telco_df['OnlineSecurity'] = telco_df['OnlineSecurity'].map({'No': 0, 'Yes': 1, 'No internet service': 0}).astype(int)\n",
    "telco_df['OnlineBackup'] = telco_df['OnlineBackup'].map({'No': 0, 'Yes': 1, 'No internet service': 0}).astype(int)\n",
    "telco_df['DeviceProtection'] = telco_df['DeviceProtection'].map({'No': 0, 'Yes': 1, 'No internet service': 0}).astype(int)\n",
    "telco_df['TechSupport'] = telco_df['TechSupport'].map({'No': 0, 'Yes': 1, 'No internet service': 0}).astype(int)\n",
    "telco_df['StreamingTV'] = telco_df['StreamingTV'].map({'No': 0, 'Yes': 1, 'No internet service': 0}).astype(int)\n",
    "telco_df['StreamingMovies'] = telco_df['StreamingMovies'].map({'No': 0, 'Yes': 1, 'No internet service': 0}).astype(int)\n",
    "\n",
    "telco_df['InternetService'] = telco_df['InternetService'].map({'No': 0, 'Fiber optic': 1, 'DSL': 2}).astype(int)\n",
    "telco_df['Contract'] = telco_df['Contract'].map({'Month-to-month': 0, 'Two year': 1, 'One year': 2}).astype(int)\n",
    "telco_df['PaymentMethod'] = telco_df['PaymentMethod'].map({'Electronic check': 0, 'Mailed check': 1, 'Bank transfer (automatic)': 2, 'Credit card (automatic)': 3}).astype(int)\n"
   ]
  },
  {
   "cell_type": "markdown",
   "id": "f9d9bb00",
   "metadata": {},
   "source": [
    "I'll encode the target"
   ]
  },
  {
   "cell_type": "code",
   "execution_count": 6,
   "id": "89f2e4c3",
   "metadata": {},
   "outputs": [],
   "source": [
    "telco_df['Churn'] = telco_df['Churn'].map({'No': 0, 'Yes': 1}).astype(int)"
   ]
  },
  {
   "cell_type": "markdown",
   "id": "33fac958",
   "metadata": {},
   "source": [
    "### Splitting the data"
   ]
  },
  {
   "cell_type": "code",
   "execution_count": 7,
   "id": "55adbb4e",
   "metadata": {},
   "outputs": [],
   "source": [
    "y = telco_df['Churn']\n",
    "X = telco_df.drop(['Churn'], axis=1)\n",
    "\n",
    "X_train, X_test, y_train, y_test = train_test_split(X, y, test_size=0.2, random_state=42)"
   ]
  },
  {
   "cell_type": "markdown",
   "id": "b5a2c1b4",
   "metadata": {},
   "source": [
    "### Scaling the data "
   ]
  },
  {
   "cell_type": "code",
   "execution_count": 8,
   "id": "2501e448",
   "metadata": {},
   "outputs": [],
   "source": [
    "transformer = MinMaxScaler().fit(X_train)\n",
    "X_train_scaled = pd.DataFrame(transformer.transform(X_train), columns=X.columns)\n",
    "X_test_scaled = pd.DataFrame(transformer.transform(X_test), columns=X.columns)"
   ]
  },
  {
   "cell_type": "code",
   "execution_count": 9,
   "id": "441dd579",
   "metadata": {},
   "outputs": [
    {
     "data": {
      "text/html": [
       "<div>\n",
       "<style scoped>\n",
       "    .dataframe tbody tr th:only-of-type {\n",
       "        vertical-align: middle;\n",
       "    }\n",
       "\n",
       "    .dataframe tbody tr th {\n",
       "        vertical-align: top;\n",
       "    }\n",
       "\n",
       "    .dataframe thead th {\n",
       "        text-align: right;\n",
       "    }\n",
       "</style>\n",
       "<table border=\"1\" class=\"dataframe\">\n",
       "  <thead>\n",
       "    <tr style=\"text-align: right;\">\n",
       "      <th></th>\n",
       "      <th>gender</th>\n",
       "      <th>SeniorCitizen</th>\n",
       "      <th>Partner</th>\n",
       "      <th>Dependents</th>\n",
       "      <th>tenure</th>\n",
       "      <th>PhoneService</th>\n",
       "      <th>MultipleLines</th>\n",
       "      <th>InternetService</th>\n",
       "      <th>OnlineSecurity</th>\n",
       "      <th>OnlineBackup</th>\n",
       "      <th>DeviceProtection</th>\n",
       "      <th>TechSupport</th>\n",
       "      <th>StreamingTV</th>\n",
       "      <th>StreamingMovies</th>\n",
       "      <th>Contract</th>\n",
       "      <th>PaperlessBilling</th>\n",
       "      <th>PaymentMethod</th>\n",
       "      <th>MonthlyCharges</th>\n",
       "    </tr>\n",
       "  </thead>\n",
       "  <tbody>\n",
       "    <tr>\n",
       "      <th>0</th>\n",
       "      <td>1.0</td>\n",
       "      <td>0.0</td>\n",
       "      <td>0.0</td>\n",
       "      <td>0.0</td>\n",
       "      <td>0.591549</td>\n",
       "      <td>0.0</td>\n",
       "      <td>0.0</td>\n",
       "      <td>1.0</td>\n",
       "      <td>0.0</td>\n",
       "      <td>0.0</td>\n",
       "      <td>1.0</td>\n",
       "      <td>0.0</td>\n",
       "      <td>1.0</td>\n",
       "      <td>1.0</td>\n",
       "      <td>0.0</td>\n",
       "      <td>1.0</td>\n",
       "      <td>0.666667</td>\n",
       "      <td>0.306468</td>\n",
       "    </tr>\n",
       "    <tr>\n",
       "      <th>1</th>\n",
       "      <td>0.0</td>\n",
       "      <td>0.0</td>\n",
       "      <td>0.0</td>\n",
       "      <td>0.0</td>\n",
       "      <td>0.028169</td>\n",
       "      <td>1.0</td>\n",
       "      <td>0.0</td>\n",
       "      <td>1.0</td>\n",
       "      <td>0.0</td>\n",
       "      <td>0.0</td>\n",
       "      <td>0.0</td>\n",
       "      <td>0.0</td>\n",
       "      <td>1.0</td>\n",
       "      <td>0.0</td>\n",
       "      <td>0.0</td>\n",
       "      <td>0.0</td>\n",
       "      <td>1.000000</td>\n",
       "      <td>0.349751</td>\n",
       "    </tr>\n",
       "    <tr>\n",
       "      <th>2</th>\n",
       "      <td>1.0</td>\n",
       "      <td>0.0</td>\n",
       "      <td>1.0</td>\n",
       "      <td>0.0</td>\n",
       "      <td>0.760563</td>\n",
       "      <td>1.0</td>\n",
       "      <td>1.0</td>\n",
       "      <td>0.5</td>\n",
       "      <td>0.0</td>\n",
       "      <td>0.0</td>\n",
       "      <td>1.0</td>\n",
       "      <td>0.0</td>\n",
       "      <td>0.0</td>\n",
       "      <td>0.0</td>\n",
       "      <td>0.0</td>\n",
       "      <td>1.0</td>\n",
       "      <td>0.000000</td>\n",
       "      <td>0.592040</td>\n",
       "    </tr>\n",
       "    <tr>\n",
       "      <th>3</th>\n",
       "      <td>0.0</td>\n",
       "      <td>0.0</td>\n",
       "      <td>1.0</td>\n",
       "      <td>1.0</td>\n",
       "      <td>0.619718</td>\n",
       "      <td>1.0</td>\n",
       "      <td>0.0</td>\n",
       "      <td>1.0</td>\n",
       "      <td>1.0</td>\n",
       "      <td>0.0</td>\n",
       "      <td>0.0</td>\n",
       "      <td>1.0</td>\n",
       "      <td>0.0</td>\n",
       "      <td>0.0</td>\n",
       "      <td>0.5</td>\n",
       "      <td>0.0</td>\n",
       "      <td>0.666667</td>\n",
       "      <td>0.362189</td>\n",
       "    </tr>\n",
       "    <tr>\n",
       "      <th>4</th>\n",
       "      <td>1.0</td>\n",
       "      <td>0.0</td>\n",
       "      <td>1.0</td>\n",
       "      <td>1.0</td>\n",
       "      <td>0.760563</td>\n",
       "      <td>1.0</td>\n",
       "      <td>1.0</td>\n",
       "      <td>0.5</td>\n",
       "      <td>1.0</td>\n",
       "      <td>0.0</td>\n",
       "      <td>0.0</td>\n",
       "      <td>0.0</td>\n",
       "      <td>1.0</td>\n",
       "      <td>1.0</td>\n",
       "      <td>1.0</td>\n",
       "      <td>0.0</td>\n",
       "      <td>0.333333</td>\n",
       "      <td>0.822388</td>\n",
       "    </tr>\n",
       "    <tr>\n",
       "      <th>...</th>\n",
       "      <td>...</td>\n",
       "      <td>...</td>\n",
       "      <td>...</td>\n",
       "      <td>...</td>\n",
       "      <td>...</td>\n",
       "      <td>...</td>\n",
       "      <td>...</td>\n",
       "      <td>...</td>\n",
       "      <td>...</td>\n",
       "      <td>...</td>\n",
       "      <td>...</td>\n",
       "      <td>...</td>\n",
       "      <td>...</td>\n",
       "      <td>...</td>\n",
       "      <td>...</td>\n",
       "      <td>...</td>\n",
       "      <td>...</td>\n",
       "      <td>...</td>\n",
       "    </tr>\n",
       "    <tr>\n",
       "      <th>5620</th>\n",
       "      <td>0.0</td>\n",
       "      <td>0.0</td>\n",
       "      <td>0.0</td>\n",
       "      <td>0.0</td>\n",
       "      <td>0.028169</td>\n",
       "      <td>1.0</td>\n",
       "      <td>1.0</td>\n",
       "      <td>1.0</td>\n",
       "      <td>0.0</td>\n",
       "      <td>0.0</td>\n",
       "      <td>0.0</td>\n",
       "      <td>0.0</td>\n",
       "      <td>0.0</td>\n",
       "      <td>0.0</td>\n",
       "      <td>0.0</td>\n",
       "      <td>0.0</td>\n",
       "      <td>0.666667</td>\n",
       "      <td>0.319900</td>\n",
       "    </tr>\n",
       "    <tr>\n",
       "      <th>5621</th>\n",
       "      <td>1.0</td>\n",
       "      <td>0.0</td>\n",
       "      <td>0.0</td>\n",
       "      <td>0.0</td>\n",
       "      <td>0.704225</td>\n",
       "      <td>1.0</td>\n",
       "      <td>1.0</td>\n",
       "      <td>0.5</td>\n",
       "      <td>0.0</td>\n",
       "      <td>1.0</td>\n",
       "      <td>1.0</td>\n",
       "      <td>1.0</td>\n",
       "      <td>1.0</td>\n",
       "      <td>1.0</td>\n",
       "      <td>1.0</td>\n",
       "      <td>1.0</td>\n",
       "      <td>0.000000</td>\n",
       "      <td>0.927861</td>\n",
       "    </tr>\n",
       "    <tr>\n",
       "      <th>5622</th>\n",
       "      <td>0.0</td>\n",
       "      <td>0.0</td>\n",
       "      <td>0.0</td>\n",
       "      <td>0.0</td>\n",
       "      <td>0.112676</td>\n",
       "      <td>1.0</td>\n",
       "      <td>1.0</td>\n",
       "      <td>0.5</td>\n",
       "      <td>1.0</td>\n",
       "      <td>0.0</td>\n",
       "      <td>0.0</td>\n",
       "      <td>0.0</td>\n",
       "      <td>0.0</td>\n",
       "      <td>0.0</td>\n",
       "      <td>0.0</td>\n",
       "      <td>1.0</td>\n",
       "      <td>0.000000</td>\n",
       "      <td>0.625871</td>\n",
       "    </tr>\n",
       "    <tr>\n",
       "      <th>5623</th>\n",
       "      <td>1.0</td>\n",
       "      <td>0.0</td>\n",
       "      <td>0.0</td>\n",
       "      <td>0.0</td>\n",
       "      <td>0.690141</td>\n",
       "      <td>1.0</td>\n",
       "      <td>0.0</td>\n",
       "      <td>0.0</td>\n",
       "      <td>0.0</td>\n",
       "      <td>0.0</td>\n",
       "      <td>0.0</td>\n",
       "      <td>0.0</td>\n",
       "      <td>0.0</td>\n",
       "      <td>0.0</td>\n",
       "      <td>1.0</td>\n",
       "      <td>0.0</td>\n",
       "      <td>0.666667</td>\n",
       "      <td>0.014925</td>\n",
       "    </tr>\n",
       "    <tr>\n",
       "      <th>5624</th>\n",
       "      <td>0.0</td>\n",
       "      <td>1.0</td>\n",
       "      <td>1.0</td>\n",
       "      <td>0.0</td>\n",
       "      <td>0.267606</td>\n",
       "      <td>1.0</td>\n",
       "      <td>0.0</td>\n",
       "      <td>0.5</td>\n",
       "      <td>0.0</td>\n",
       "      <td>1.0</td>\n",
       "      <td>0.0</td>\n",
       "      <td>0.0</td>\n",
       "      <td>0.0</td>\n",
       "      <td>0.0</td>\n",
       "      <td>0.0</td>\n",
       "      <td>1.0</td>\n",
       "      <td>0.000000</td>\n",
       "      <td>0.551244</td>\n",
       "    </tr>\n",
       "  </tbody>\n",
       "</table>\n",
       "<p>5625 rows × 18 columns</p>\n",
       "</div>"
      ],
      "text/plain": [
       "      gender  SeniorCitizen  Partner  Dependents    tenure  PhoneService  \\\n",
       "0        1.0            0.0      0.0         0.0  0.591549           0.0   \n",
       "1        0.0            0.0      0.0         0.0  0.028169           1.0   \n",
       "2        1.0            0.0      1.0         0.0  0.760563           1.0   \n",
       "3        0.0            0.0      1.0         1.0  0.619718           1.0   \n",
       "4        1.0            0.0      1.0         1.0  0.760563           1.0   \n",
       "...      ...            ...      ...         ...       ...           ...   \n",
       "5620     0.0            0.0      0.0         0.0  0.028169           1.0   \n",
       "5621     1.0            0.0      0.0         0.0  0.704225           1.0   \n",
       "5622     0.0            0.0      0.0         0.0  0.112676           1.0   \n",
       "5623     1.0            0.0      0.0         0.0  0.690141           1.0   \n",
       "5624     0.0            1.0      1.0         0.0  0.267606           1.0   \n",
       "\n",
       "      MultipleLines  InternetService  OnlineSecurity  OnlineBackup  \\\n",
       "0               0.0              1.0             0.0           0.0   \n",
       "1               0.0              1.0             0.0           0.0   \n",
       "2               1.0              0.5             0.0           0.0   \n",
       "3               0.0              1.0             1.0           0.0   \n",
       "4               1.0              0.5             1.0           0.0   \n",
       "...             ...              ...             ...           ...   \n",
       "5620            1.0              1.0             0.0           0.0   \n",
       "5621            1.0              0.5             0.0           1.0   \n",
       "5622            1.0              0.5             1.0           0.0   \n",
       "5623            0.0              0.0             0.0           0.0   \n",
       "5624            0.0              0.5             0.0           1.0   \n",
       "\n",
       "      DeviceProtection  TechSupport  StreamingTV  StreamingMovies  Contract  \\\n",
       "0                  1.0          0.0          1.0              1.0       0.0   \n",
       "1                  0.0          0.0          1.0              0.0       0.0   \n",
       "2                  1.0          0.0          0.0              0.0       0.0   \n",
       "3                  0.0          1.0          0.0              0.0       0.5   \n",
       "4                  0.0          0.0          1.0              1.0       1.0   \n",
       "...                ...          ...          ...              ...       ...   \n",
       "5620               0.0          0.0          0.0              0.0       0.0   \n",
       "5621               1.0          1.0          1.0              1.0       1.0   \n",
       "5622               0.0          0.0          0.0              0.0       0.0   \n",
       "5623               0.0          0.0          0.0              0.0       1.0   \n",
       "5624               0.0          0.0          0.0              0.0       0.0   \n",
       "\n",
       "      PaperlessBilling  PaymentMethod  MonthlyCharges  \n",
       "0                  1.0       0.666667        0.306468  \n",
       "1                  0.0       1.000000        0.349751  \n",
       "2                  1.0       0.000000        0.592040  \n",
       "3                  0.0       0.666667        0.362189  \n",
       "4                  0.0       0.333333        0.822388  \n",
       "...                ...            ...             ...  \n",
       "5620               0.0       0.666667        0.319900  \n",
       "5621               1.0       0.000000        0.927861  \n",
       "5622               1.0       0.000000        0.625871  \n",
       "5623               0.0       0.666667        0.014925  \n",
       "5624               1.0       0.000000        0.551244  \n",
       "\n",
       "[5625 rows x 18 columns]"
      ]
     },
     "execution_count": 9,
     "metadata": {},
     "output_type": "execute_result"
    }
   ],
   "source": [
    "X_train_scaled"
   ]
  },
  {
   "cell_type": "code",
   "execution_count": 10,
   "id": "7180c510",
   "metadata": {},
   "outputs": [],
   "source": [
    "y_train = y_train.reset_index(drop=True) \n",
    "y_test = y_test.reset_index(drop=True) "
   ]
  },
  {
   "cell_type": "markdown",
   "id": "ff8911c1",
   "metadata": {},
   "source": [
    "### Logistic Regression Model"
   ]
  },
  {
   "cell_type": "markdown",
   "id": "3e3dc4a7",
   "metadata": {},
   "source": [
    "First of all, I will try a a Logistic Regression Model"
   ]
  },
  {
   "cell_type": "code",
   "execution_count": 11,
   "id": "047e0a47",
   "metadata": {},
   "outputs": [
    {
     "name": "stdout",
     "output_type": "stream",
     "text": [
      "LR score: 0.7896233120113717\n",
      "precision:  0.63\n",
      "recall:  0.5053475935828877\n",
      "f1:  0.5608308605341247\n"
     ]
    }
   ],
   "source": [
    "LR = LogisticRegression(max_iter=1000)\n",
    "LR.fit(X_train_scaled, y_train)\n",
    "pred = LR.predict(X_test_scaled)\n",
    "\n",
    "print(\"LR score:\", LR.score(X_test_scaled, y_test))\n",
    "print(\"precision: \",precision_score(y_test,pred))\n",
    "print(\"recall: \",recall_score(y_test,pred))\n",
    "print(\"f1: \",f1_score(y_test,pred))"
   ]
  },
  {
   "cell_type": "code",
   "execution_count": 12,
   "id": "4d710f5c",
   "metadata": {},
   "outputs": [
    {
     "data": {
      "text/plain": [
       "array([[922, 111],\n",
       "       [185, 189]])"
      ]
     },
     "execution_count": 12,
     "metadata": {},
     "output_type": "execute_result"
    }
   ],
   "source": [
    "confusion_matrix(y_test,pred)"
   ]
  },
  {
   "cell_type": "markdown",
   "id": "f5733218",
   "metadata": {},
   "source": [
    "As I can observe I'm been able to detect the half of the possitive customer churns (recall)"
   ]
  },
  {
   "cell_type": "markdown",
   "id": "73575187",
   "metadata": {},
   "source": [
    "It is not a bad accuracy but I will try other models to see if I can improve it"
   ]
  },
  {
   "cell_type": "markdown",
   "id": "8262d548",
   "metadata": {},
   "source": [
    "### KNN model"
   ]
  },
  {
   "cell_type": "code",
   "execution_count": 13,
   "id": "904bff49",
   "metadata": {},
   "outputs": [
    {
     "name": "stdout",
     "output_type": "stream",
     "text": [
      "KNN score: 0.7697228144989339\n",
      "KNN precision:  0.6008064516129032\n",
      "KNN recall:  0.3983957219251337\n",
      "KNN f1:  0.47909967845659157\n"
     ]
    }
   ],
   "source": [
    "KNN = KNeighborsClassifier(n_neighbors = 8) \n",
    "KNN.fit(X_train,y_train)\n",
    "pred = KNN.predict(X_test)\n",
    "print(\"KNN score:\",KNN.score(X_test,y_test))\n",
    "print(\"KNN precision: \",precision_score(y_test,pred))\n",
    "print(\"KNN recall: \",recall_score(y_test,pred))\n",
    "print(\"KNN f1: \",f1_score(y_test,pred))"
   ]
  },
  {
   "cell_type": "markdown",
   "id": "63f1fc58",
   "metadata": {},
   "source": [
    "I've obtained better results with LR this time"
   ]
  },
  {
   "cell_type": "markdown",
   "id": "11856ee3",
   "metadata": {},
   "source": [
    "### Oversampling"
   ]
  },
  {
   "cell_type": "markdown",
   "id": "b67ef32a",
   "metadata": {},
   "source": [
    "Let's check the target "
   ]
  },
  {
   "cell_type": "code",
   "execution_count": 14,
   "id": "df27f8e4",
   "metadata": {},
   "outputs": [
    {
     "data": {
      "text/plain": [
       "0    5163\n",
       "1    1869\n",
       "Name: Churn, dtype: int64"
      ]
     },
     "execution_count": 14,
     "metadata": {},
     "output_type": "execute_result"
    }
   ],
   "source": [
    "y.value_counts()"
   ]
  },
  {
   "cell_type": "markdown",
   "id": "d201b846",
   "metadata": {},
   "source": [
    "I'm going to do oversampling because the data is unbalanced"
   ]
  },
  {
   "cell_type": "code",
   "execution_count": 15,
   "id": "4260e17c",
   "metadata": {},
   "outputs": [],
   "source": [
    "train = pd.concat([X_train_scaled, y_train],axis=1)"
   ]
  },
  {
   "cell_type": "code",
   "execution_count": 16,
   "id": "2996c351",
   "metadata": {},
   "outputs": [],
   "source": [
    "no_churn = train[train['Churn']==0]\n",
    "yes_churn = train[train['Churn']==1]"
   ]
  },
  {
   "cell_type": "code",
   "execution_count": 17,
   "id": "f6d72d28",
   "metadata": {},
   "outputs": [],
   "source": [
    "yes_churn_oversampled = resample(yes_churn, replace=True, n_samples = len(no_churn), random_state=0)"
   ]
  },
  {
   "cell_type": "code",
   "execution_count": 18,
   "id": "9238a6c3",
   "metadata": {},
   "outputs": [],
   "source": [
    "train_oversampled = pd.concat([no_churn,yes_churn_oversampled],axis=0)"
   ]
  },
  {
   "cell_type": "code",
   "execution_count": 19,
   "id": "5f0b578b",
   "metadata": {},
   "outputs": [],
   "source": [
    "y_train_over = train_oversampled['Churn'].copy()\n",
    "X_train_over = train_oversampled.drop('Churn',axis = 1).copy()"
   ]
  },
  {
   "cell_type": "markdown",
   "id": "cc129939",
   "metadata": {},
   "source": [
    "Trying Logistic Regression Model"
   ]
  },
  {
   "cell_type": "code",
   "execution_count": 20,
   "id": "23e8ccb2",
   "metadata": {},
   "outputs": [
    {
     "name": "stdout",
     "output_type": "stream",
     "text": [
      "LR with Oversampling score: 0.7484008528784648\n",
      "precision:  0.5180505415162455\n",
      "recall:  0.767379679144385\n",
      "f1:  0.6185344827586207\n"
     ]
    }
   ],
   "source": [
    "LR_over = LogisticRegression(max_iter=1000)\n",
    "LR_over.fit(X_train_over, y_train_over)\n",
    "pred = LR_over.predict(X_test_scaled)\n",
    "\n",
    "print(\"LR with Oversampling score:\", LR_over.score(X_test_scaled, y_test))\n",
    "print(\"precision: \",precision_score(y_test,pred))\n",
    "print(\"recall: \",recall_score(y_test,pred))\n",
    "print(\"f1: \",f1_score(y_test,pred))"
   ]
  },
  {
   "cell_type": "code",
   "execution_count": 21,
   "id": "d92b0b98",
   "metadata": {},
   "outputs": [
    {
     "data": {
      "text/plain": [
       "array([[766, 267],\n",
       "       [ 87, 287]])"
      ]
     },
     "execution_count": 21,
     "metadata": {},
     "output_type": "execute_result"
    }
   ],
   "source": [
    "confusion_matrix(y_test,pred)"
   ]
  },
  {
   "cell_type": "markdown",
   "id": "34a7161e",
   "metadata": {},
   "source": [
    "Using oversampling the results are better, in fact, now I'm detecting the 75% of the customer churns, this means that I can predict 1 of 4 churns more using oversampling and the company will be able to try to retain 3 of 4 customers who want leave."
   ]
  }
 ],
 "metadata": {
  "kernelspec": {
   "display_name": "Python 3 (ipykernel)",
   "language": "python",
   "name": "python3"
  },
  "language_info": {
   "codemirror_mode": {
    "name": "ipython",
    "version": 3
   },
   "file_extension": ".py",
   "mimetype": "text/x-python",
   "name": "python",
   "nbconvert_exporter": "python",
   "pygments_lexer": "ipython3",
   "version": "3.9.7"
  }
 },
 "nbformat": 4,
 "nbformat_minor": 5
}
